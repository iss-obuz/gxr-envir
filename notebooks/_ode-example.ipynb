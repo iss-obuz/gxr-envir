{
 "cells": [
  {
   "cell_type": "markdown",
   "metadata": {},
   "source": [
    "## Running a single simulation\n",
    "\n",
    "Below is an example of how to run a single simulation and visualize its results."
   ]
  },
  {
   "cell_type": "code",
   "execution_count": null,
   "metadata": {},
   "outputs": [],
   "source": [
    "from gxr.envir import Config, DynamicsPlotter, EnvirDynamics, EnvirModel\n",
    "\n",
    "# Configuration for the game; only value to override must be provided;\n",
    "# all other options are set to reasonable defaults.\n",
    "# Use '.from_disk()' method to populate a config with value from a '.toml' file.\n",
    "params = {\n",
    "    \"foresight\": {\n",
    "        \"horizon\": .1,\n",
    "    },\n",
    "}\n",
    "config   = Config(params)\n",
    "model    = EnvirModel(**config[\"model\"])\n",
    "dynamics = EnvirDynamics(model)\n",
    "\n",
    "sol  = dynamics.run(30, progress=True)\n",
    "T, E, P, H = sol.get_arrays()\n",
    "\n",
    "plotter = DynamicsPlotter(dynamics, sol)\n",
    "fig, axes = plotter.subplots(nrows=3, figsize=(8, 8))\n",
    "\n",
    "plotter.plot_state(axes[0], show_vicious=True, show_perceived=True)\n",
    "plotter.plot_harvesting(axes[1])\n",
    "plotter.plot_utilities(axes[2])\n",
    "fig.tight_layout()\n",
    "fig"
   ]
  },
  {
   "cell_type": "code",
   "execution_count": null,
   "metadata": {},
   "outputs": [],
   "source": [
    "sol.ode"
   ]
  },
  {
   "cell_type": "code",
   "execution_count": null,
   "metadata": {},
   "outputs": [],
   "source": []
  }
 ],
 "metadata": {
  "kernelspec": {
   "display_name": "base",
   "language": "python",
   "name": "python3"
  },
  "language_info": {
   "codemirror_mode": {
    "name": "ipython",
    "version": 3
   },
   "file_extension": ".py",
   "mimetype": "text/x-python",
   "name": "python",
   "nbconvert_exporter": "python",
   "pygments_lexer": "ipython3",
   "version": "3.11.5"
  }
 },
 "nbformat": 4,
 "nbformat_minor": 2
}
