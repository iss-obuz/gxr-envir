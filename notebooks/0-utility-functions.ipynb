{
 "cells": [
  {
   "cell_type": "markdown",
   "metadata": {},
   "source": [
    "# Example of environment simulation"
   ]
  },
  {
   "cell_type": "code",
   "execution_count": null,
   "metadata": {},
   "outputs": [],
   "source": [
    "import numpy as np\n",
    "import matplotlib.pyplot as plt\n",
    "from gxr.envir.functions.utility import UtilLinSqrt\n"
   ]
  },
  {
   "cell_type": "markdown",
   "metadata": {},
   "source": [
    "## Linear-square root utility\n",
    "\n",
    "$$\n",
    "u(x) = \\begin{cases}\n",
    "    bx\\qquad&\\text{for $x < 0$} \\\\\n",
    "    2\\sqrt(x + 1/b^2) - 2/b\\qquad&\\text{for $x >= 0$}\n",
    "\\end{cases}\n",
    "$$\n",
    "$$\n",
    "\\frac{du}{dt} = \\begin{cases}\n",
    "    b\\qquad&\\text{for $x < 0$} \\\\\n",
    "    \\frac{1}{\\sqrt{x + 1/b^2}}\\qquad&\\text{for $x >= 0$}\n",
    "\\end{cases}\n",
    "$$"
   ]
  },
  {
   "cell_type": "code",
   "execution_count": null,
   "metadata": {},
   "outputs": [],
   "source": [
    "x = np.linspace(-2, 10, 500)\n",
    "B = [.5, 1, 2, 4, 8]\n",
    "\n",
    "fig, ax = plt.subplots(figsize=(5, 5))\n",
    "for b in B:\n",
    "    util = UtilLinSqrt(b)\n",
    "    ax.plot(x, util(x), label=rf\"$b={b}$\")\n",
    "ax.legend()\n"
   ]
  }
 ],
 "metadata": {
  "kernelspec": {
   "display_name": "base",
   "language": "python",
   "name": "python3"
  },
  "language_info": {
   "codemirror_mode": {
    "name": "ipython",
    "version": 3
   },
   "file_extension": ".py",
   "mimetype": "text/x-python",
   "name": "python",
   "nbconvert_exporter": "python",
   "pygments_lexer": "ipython3",
   "version": "3.11.5"
  }
 },
 "nbformat": 4,
 "nbformat_minor": 2
}
