{
 "cells": [
  {
   "cell_type": "markdown",
   "metadata": {},
   "source": [
    "# Example of environment simulation"
   ]
  },
  {
   "cell_type": "code",
   "execution_count": null,
   "metadata": {},
   "outputs": [],
   "source": [
    "from gxr.envir import Config, DynamicsPlotter, EnvirDynamics, EnvirModel\n",
    "\n",
    "# Configuration for the game\n",
    "# can be also read from JSON-file with an analogous structure\n",
    "# using the `.from_json` constructor method\n",
    "params = {\n",
    "    \"envir\": {\n",
    "        \"K\": 100,\n",
    "        \"T\": 10\n",
    "    },\n",
    "    \"profits\": {\n",
    "        \"sustenance\": .1,\n",
    "    },\n",
    "    \"foresight\": {\n",
    "        \"horizon\": 3,\n",
    "        \"alpha\": 0.05\n",
    "    },\n",
    "    \"model\": {\n",
    "        \"n_agents\": 4,\n",
    "        \"E0\": 1,\n",
    "        \"behavior\": {\n",
    "            \"delay\": 4,\n",
    "            \"noise\": 0.5,\n",
    "        }\n",
    "    }\n",
    "}\n",
    "config   = Config(params)\n",
    "model    = EnvirModel(**config[\"model\"])\n",
    "dynamics = EnvirDynamics(model)"
   ]
  },
  {
   "cell_type": "code",
   "execution_count": null,
   "metadata": {},
   "outputs": [],
   "source": [
    "tmax = 200*round(model.envir.T_epsilon)\n",
    "sol  = dynamics.run(tmax, progress=True)\n",
    "T, E, P, H = sol.get_arrays()\n",
    "U = model.utility(P)\n",
    "sol.ode.message"
   ]
  },
  {
   "cell_type": "code",
   "execution_count": null,
   "metadata": {},
   "outputs": [],
   "source": [
    "plotter = DynamicsPlotter(dynamics, sol)\n",
    "fig, axes = plotter.subplots(nrows=3, figsize=(8, 8))\n",
    "\n",
    "plotter.plot_state(axes[0], show_vicious=True, show_perceived=True)\n",
    "plotter.plot_harvesting(axes[1])\n",
    "plotter.plot_utilities(axes[2])\n",
    "fig.tight_layout()\n",
    "fig"
   ]
  }
 ],
 "metadata": {
  "kernelspec": {
   "display_name": "base",
   "language": "python",
   "name": "python3"
  },
  "language_info": {
   "codemirror_mode": {
    "name": "ipython",
    "version": 3
   },
   "file_extension": ".py",
   "mimetype": "text/x-python",
   "name": "python",
   "nbconvert_exporter": "python",
   "pygments_lexer": "ipython3",
   "version": "3.11.5"
  }
 },
 "nbformat": 4,
 "nbformat_minor": 2
}
