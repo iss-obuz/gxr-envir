{
 "cells": [
  {
   "cell_type": "markdown",
   "metadata": {},
   "source": [
    "# Example of environment simulation"
   ]
  },
  {
   "cell_type": "code",
   "execution_count": 1,
   "metadata": {},
   "outputs": [
    {
     "name": "stderr",
     "output_type": "stream",
     "text": [
      "/home/guestxr/envir/gxr/envir/dynamics.py:7: TqdmExperimentalWarning: Using `tqdm.autonotebook.tqdm` in notebook mode. Use `tqdm.tqdm` instead to force console mode (e.g. in jupyter console)\n",
      "  from tqdm.autonotebook import tqdm\n"
     ]
    }
   ],
   "source": [
    "import numpy as np\n",
    "from gxr.envir import EnvirGame, EnvirDynamics, DynamicsPlotter\n",
    "\n",
    "# Configuration for the game\n",
    "# can be also read from JSON-file with an analogous structure\n",
    "# using the `.from_json` constructor method\n",
    "config = {\n",
    "    \"n_agents\": 4,        # number of players\n",
    "    \"E0\": .4,\n",
    "    \"scale_capacity\": True,\n",
    "    \"envir\": {\n",
    "        \"K\": 10,\n",
    "        \"T\": 10\n",
    "    },\n",
    "    \"profits\": {\n",
    "        \"sustenance\": .3,   # sustenance proportionality factor\n",
    "        \"cost\": .0,         # harvesting cost proportionality factor\n",
    "    },\n",
    "    \"foresight\": {\n",
    "        \"horizon\": 1\n",
    "    }\n",
    "}\n",
    "behavior = {\n",
    "    \"delay\": 5,\n",
    "    \"eta\": .25,\n",
    "    \"noise\": 0,\n",
    "    # \"seed\": 303\n",
    "    \"rules\": [\n",
    "        {\"alpha\": .4, \"bias\": .2, \"@rule\": \"ForesightRule\"}\n",
    "    ]\n",
    "}\n",
    "game     = EnvirGame.from_params(**config)\n",
    "tmax     = 200*round(game.envir.T_epsilon)\n",
    "dynamics = EnvirDynamics(game, behavior)"
   ]
  },
  {
   "cell_type": "code",
   "execution_count": 2,
   "metadata": {},
   "outputs": [
    {
     "ename": "ValueError",
     "evalue": "non-broadcastable output operand with shape (4,) doesn't match the broadcast shape (4,4)",
     "output_type": "error",
     "traceback": [
      "\u001b[0;31m---------------------------------------------------------------------------\u001b[0m",
      "\u001b[0;31mValueError\u001b[0m                                Traceback (most recent call last)",
      "Cell \u001b[0;32mIn[2], line 1\u001b[0m\n\u001b[0;32m----> 1\u001b[0m sol \u001b[38;5;241m=\u001b[39m dynamics\u001b[38;5;241m.\u001b[39mrun(tmax, progress\u001b[38;5;241m=\u001b[39m\u001b[38;5;28;01mTrue\u001b[39;00m)\n\u001b[1;32m      2\u001b[0m T, E, P, H \u001b[38;5;241m=\u001b[39m sol\u001b[38;5;241m.\u001b[39mget_arrays()\n\u001b[1;32m      3\u001b[0m U   \u001b[38;5;241m=\u001b[39m game\u001b[38;5;241m.\u001b[39mutility\u001b[38;5;241m.\u001b[39mfunc(P)\n",
      "File \u001b[0;32m/home/guestxr/envir/gxr/envir/dynamics.py:155\u001b[0m, in \u001b[0;36mEnvirDynamics.run\u001b[0;34m(self, t, progress, tol, etol, ptol, htol, **kwds)\u001b[0m\n\u001b[1;32m    149\u001b[0m atol \u001b[38;5;241m=\u001b[39m np\u001b[38;5;241m.\u001b[39mconcatenate([\n\u001b[1;32m    150\u001b[0m     [eatol]\u001b[38;5;241m*\u001b[39m\u001b[38;5;241m2\u001b[39m,\n\u001b[1;32m    151\u001b[0m     np\u001b[38;5;241m.\u001b[39mfull(\u001b[38;5;28mself\u001b[39m\u001b[38;5;241m.\u001b[39mn_agents, patol),\n\u001b[1;32m    152\u001b[0m     np\u001b[38;5;241m.\u001b[39mfull(\u001b[38;5;28mself\u001b[39m\u001b[38;5;241m.\u001b[39mn_agents, hatol)\n\u001b[1;32m    153\u001b[0m ])\n\u001b[1;32m    154\u001b[0m t_span \u001b[38;5;241m=\u001b[39m (\u001b[38;5;241m0\u001b[39m, t)\n\u001b[0;32m--> 155\u001b[0m sol \u001b[38;5;241m=\u001b[39m solve_ivp(\u001b[38;5;28mself\u001b[39m\u001b[38;5;241m.\u001b[39mode, t_span, \u001b[38;5;28mself\u001b[39m\u001b[38;5;241m.\u001b[39mget_y0(), args\u001b[38;5;241m=\u001b[39m(pbar,), \u001b[38;5;241m*\u001b[39m\u001b[38;5;241m*\u001b[39m{\n\u001b[1;32m    156\u001b[0m     \u001b[38;5;124m\"\u001b[39m\u001b[38;5;124mmethod\u001b[39m\u001b[38;5;124m\"\u001b[39m: \u001b[38;5;124m\"\u001b[39m\u001b[38;5;124mRK23\u001b[39m\u001b[38;5;124m\"\u001b[39m,\n\u001b[1;32m    157\u001b[0m     \u001b[38;5;124m\"\u001b[39m\u001b[38;5;124mrtol\u001b[39m\u001b[38;5;124m\"\u001b[39m: rtol,\n\u001b[1;32m    158\u001b[0m     \u001b[38;5;124m\"\u001b[39m\u001b[38;5;124matol\u001b[39m\u001b[38;5;124m\"\u001b[39m: atol,\n\u001b[1;32m    159\u001b[0m     \u001b[38;5;241m*\u001b[39m\u001b[38;5;241m*\u001b[39mkwds\n\u001b[1;32m    160\u001b[0m })\n\u001b[1;32m    161\u001b[0m E \u001b[38;5;241m=\u001b[39m sol\u001b[38;5;241m.\u001b[39my[\u001b[38;5;241m0\u001b[39m, \u001b[38;5;241m-\u001b[39m\u001b[38;5;241m1\u001b[39m]\n\u001b[1;32m    162\u001b[0m P \u001b[38;5;241m=\u001b[39m sol\u001b[38;5;241m.\u001b[39my[\u001b[38;5;241m1\u001b[39m:\u001b[38;5;28mself\u001b[39m\u001b[38;5;241m.\u001b[39mn_agents\u001b[38;5;241m+\u001b[39m\u001b[38;5;241m1\u001b[39m, \u001b[38;5;241m-\u001b[39m\u001b[38;5;241m1\u001b[39m]\n",
      "File \u001b[0;32m~/.conda/envs/gxr-envir/lib/python3.11/site-packages/scipy/integrate/_ivp/ivp.py:568\u001b[0m, in \u001b[0;36msolve_ivp\u001b[0;34m(fun, t_span, y0, method, t_eval, dense_output, events, vectorized, args, **options)\u001b[0m\n\u001b[1;32m    565\u001b[0m \u001b[38;5;28;01mif\u001b[39;00m method \u001b[38;5;129;01min\u001b[39;00m METHODS:\n\u001b[1;32m    566\u001b[0m     method \u001b[38;5;241m=\u001b[39m METHODS[method]\n\u001b[0;32m--> 568\u001b[0m solver \u001b[38;5;241m=\u001b[39m method(fun, t0, y0, tf, vectorized\u001b[38;5;241m=\u001b[39mvectorized, \u001b[38;5;241m*\u001b[39m\u001b[38;5;241m*\u001b[39moptions)\n\u001b[1;32m    570\u001b[0m \u001b[38;5;28;01mif\u001b[39;00m t_eval \u001b[38;5;129;01mis\u001b[39;00m \u001b[38;5;28;01mNone\u001b[39;00m:\n\u001b[1;32m    571\u001b[0m     ts \u001b[38;5;241m=\u001b[39m [t0]\n",
      "File \u001b[0;32m~/.conda/envs/gxr-envir/lib/python3.11/site-packages/scipy/integrate/_ivp/rk.py:94\u001b[0m, in \u001b[0;36mRungeKutta.__init__\u001b[0;34m(self, fun, t0, y0, t_bound, max_step, rtol, atol, vectorized, first_step, **extraneous)\u001b[0m\n\u001b[1;32m     92\u001b[0m \u001b[38;5;28mself\u001b[39m\u001b[38;5;241m.\u001b[39mmax_step \u001b[38;5;241m=\u001b[39m validate_max_step(max_step)\n\u001b[1;32m     93\u001b[0m \u001b[38;5;28mself\u001b[39m\u001b[38;5;241m.\u001b[39mrtol, \u001b[38;5;28mself\u001b[39m\u001b[38;5;241m.\u001b[39matol \u001b[38;5;241m=\u001b[39m validate_tol(rtol, atol, \u001b[38;5;28mself\u001b[39m\u001b[38;5;241m.\u001b[39mn)\n\u001b[0;32m---> 94\u001b[0m \u001b[38;5;28mself\u001b[39m\u001b[38;5;241m.\u001b[39mf \u001b[38;5;241m=\u001b[39m \u001b[38;5;28mself\u001b[39m\u001b[38;5;241m.\u001b[39mfun(\u001b[38;5;28mself\u001b[39m\u001b[38;5;241m.\u001b[39mt, \u001b[38;5;28mself\u001b[39m\u001b[38;5;241m.\u001b[39my)\n\u001b[1;32m     95\u001b[0m \u001b[38;5;28;01mif\u001b[39;00m first_step \u001b[38;5;129;01mis\u001b[39;00m \u001b[38;5;28;01mNone\u001b[39;00m:\n\u001b[1;32m     96\u001b[0m     \u001b[38;5;28mself\u001b[39m\u001b[38;5;241m.\u001b[39mh_abs \u001b[38;5;241m=\u001b[39m select_initial_step(\n\u001b[1;32m     97\u001b[0m         \u001b[38;5;28mself\u001b[39m\u001b[38;5;241m.\u001b[39mfun, \u001b[38;5;28mself\u001b[39m\u001b[38;5;241m.\u001b[39mt, \u001b[38;5;28mself\u001b[39m\u001b[38;5;241m.\u001b[39my, \u001b[38;5;28mself\u001b[39m\u001b[38;5;241m.\u001b[39mf, \u001b[38;5;28mself\u001b[39m\u001b[38;5;241m.\u001b[39mdirection,\n\u001b[1;32m     98\u001b[0m         \u001b[38;5;28mself\u001b[39m\u001b[38;5;241m.\u001b[39merror_estimator_order, \u001b[38;5;28mself\u001b[39m\u001b[38;5;241m.\u001b[39mrtol, \u001b[38;5;28mself\u001b[39m\u001b[38;5;241m.\u001b[39matol)\n",
      "File \u001b[0;32m~/.conda/envs/gxr-envir/lib/python3.11/site-packages/scipy/integrate/_ivp/base.py:154\u001b[0m, in \u001b[0;36mOdeSolver.__init__.<locals>.fun\u001b[0;34m(t, y)\u001b[0m\n\u001b[1;32m    152\u001b[0m \u001b[38;5;28;01mdef\u001b[39;00m \u001b[38;5;21mfun\u001b[39m(t, y):\n\u001b[1;32m    153\u001b[0m     \u001b[38;5;28mself\u001b[39m\u001b[38;5;241m.\u001b[39mnfev \u001b[38;5;241m+\u001b[39m\u001b[38;5;241m=\u001b[39m \u001b[38;5;241m1\u001b[39m\n\u001b[0;32m--> 154\u001b[0m     \u001b[38;5;28;01mreturn\u001b[39;00m \u001b[38;5;28mself\u001b[39m\u001b[38;5;241m.\u001b[39mfun_single(t, y)\n",
      "File \u001b[0;32m~/.conda/envs/gxr-envir/lib/python3.11/site-packages/scipy/integrate/_ivp/base.py:23\u001b[0m, in \u001b[0;36mcheck_arguments.<locals>.fun_wrapped\u001b[0;34m(t, y)\u001b[0m\n\u001b[1;32m     22\u001b[0m \u001b[38;5;28;01mdef\u001b[39;00m \u001b[38;5;21mfun_wrapped\u001b[39m(t, y):\n\u001b[0;32m---> 23\u001b[0m     \u001b[38;5;28;01mreturn\u001b[39;00m np\u001b[38;5;241m.\u001b[39masarray(fun(t, y), dtype\u001b[38;5;241m=\u001b[39mdtype)\n",
      "File \u001b[0;32m~/.conda/envs/gxr-envir/lib/python3.11/site-packages/scipy/integrate/_ivp/ivp.py:540\u001b[0m, in \u001b[0;36msolve_ivp.<locals>.fun\u001b[0;34m(t, x, fun)\u001b[0m\n\u001b[1;32m    539\u001b[0m \u001b[38;5;28;01mdef\u001b[39;00m \u001b[38;5;21mfun\u001b[39m(t, x, fun\u001b[38;5;241m=\u001b[39mfun):\n\u001b[0;32m--> 540\u001b[0m     \u001b[38;5;28;01mreturn\u001b[39;00m fun(t, x, \u001b[38;5;241m*\u001b[39margs)\n",
      "File \u001b[0;32m/home/guestxr/envir/gxr/envir/dynamics.py:184\u001b[0m, in \u001b[0;36mEnvirDynamics.ode\u001b[0;34m(self, t, y, pbar)\u001b[0m\n\u001b[1;32m    178\u001b[0m P    \u001b[38;5;241m=\u001b[39m y[\u001b[38;5;241m2\u001b[39m:\u001b[38;5;241m2\u001b[39m\u001b[38;5;241m+\u001b[39m\u001b[38;5;28mself\u001b[39m\u001b[38;5;241m.\u001b[39mn_agents]\n\u001b[1;32m    179\u001b[0m H    \u001b[38;5;241m=\u001b[39m y[\u001b[38;5;241m-\u001b[39m\u001b[38;5;28mself\u001b[39m\u001b[38;5;241m.\u001b[39mn_agents:]\n\u001b[1;32m    180\u001b[0m dX   \u001b[38;5;241m=\u001b[39m np\u001b[38;5;241m.\u001b[39marray([\n\u001b[1;32m    181\u001b[0m     \u001b[38;5;28mself\u001b[39m\u001b[38;5;241m.\u001b[39mgame\u001b[38;5;241m.\u001b[39menvir\u001b[38;5;241m.\u001b[39mderiv(E, H\u001b[38;5;241m.\u001b[39msum()),\n\u001b[1;32m    182\u001b[0m     \u001b[38;5;28mself\u001b[39m\u001b[38;5;241m.\u001b[39mbehavior\u001b[38;5;241m.\u001b[39mEhat_deriv(E, Ehat),\n\u001b[1;32m    183\u001b[0m     \u001b[38;5;241m*\u001b[39m\u001b[38;5;28mself\u001b[39m\u001b[38;5;241m.\u001b[39mgame\u001b[38;5;241m.\u001b[39mprofits\u001b[38;5;241m.\u001b[39mderiv(E, H),\n\u001b[0;32m--> 184\u001b[0m     \u001b[38;5;241m*\u001b[39m\u001b[38;5;28mself\u001b[39m\u001b[38;5;241m.\u001b[39mbehavior\u001b[38;5;241m.\u001b[39mdH(Ehat, H, P)\n\u001b[1;32m    185\u001b[0m ])\n\u001b[1;32m    186\u001b[0m \u001b[38;5;28;01mif\u001b[39;00m pbar \u001b[38;5;129;01mis\u001b[39;00m \u001b[38;5;129;01mnot\u001b[39;00m \u001b[38;5;28;01mNone\u001b[39;00m \u001b[38;5;129;01mand\u001b[39;00m (deltat \u001b[38;5;241m:=\u001b[39m t \u001b[38;5;241m-\u001b[39m pbar\u001b[38;5;241m.\u001b[39mn) \u001b[38;5;241m>\u001b[39m \u001b[38;5;241m0\u001b[39m:\n\u001b[1;32m    187\u001b[0m     pbar\u001b[38;5;241m.\u001b[39mupdate(deltat)\n",
      "File \u001b[0;32m/home/guestxr/envir/gxr/envir/behavior.py:85\u001b[0m, in \u001b[0;36mBehavior.dH\u001b[0;34m(self, E, H, P)\u001b[0m\n\u001b[1;32m     83\u001b[0m \u001b[38;5;28;01mfor\u001b[39;00m rule \u001b[38;5;129;01min\u001b[39;00m \u001b[38;5;28mself\u001b[39m\u001b[38;5;241m.\u001b[39mrules:\n\u001b[1;32m     84\u001b[0m     denom \u001b[38;5;241m+\u001b[39m\u001b[38;5;241m=\u001b[39m rule\u001b[38;5;241m.\u001b[39mweight\n\u001b[0;32m---> 85\u001b[0m     dH \u001b[38;5;241m+\u001b[39m\u001b[38;5;241m=\u001b[39m rule\u001b[38;5;241m.\u001b[39mweight\u001b[38;5;241m*\u001b[39mrule\u001b[38;5;241m.\u001b[39mdH(E, H, P)\n\u001b[1;32m     86\u001b[0m dH \u001b[38;5;241m/\u001b[39m\u001b[38;5;241m=\u001b[39m denom\n\u001b[1;32m     87\u001b[0m \u001b[38;5;28;01mif\u001b[39;00m \u001b[38;5;28mself\u001b[39m\u001b[38;5;241m.\u001b[39mnoise \u001b[38;5;129;01mand\u001b[39;00m \u001b[38;5;28mself\u001b[39m\u001b[38;5;241m.\u001b[39mnoise \u001b[38;5;241m>\u001b[39m \u001b[38;5;241m0\u001b[39m:\n",
      "\u001b[0;31mValueError\u001b[0m: non-broadcastable output operand with shape (4,) doesn't match the broadcast shape (4,4)"
     ]
    }
   ],
   "source": [
    "sol = dynamics.run(tmax, progress=True)\n",
    "T, E, P, H = sol.get_arrays()\n",
    "U   = game.utility.func(P)\n",
    "sol.ode.message"
   ]
  },
  {
   "cell_type": "code",
   "execution_count": null,
   "metadata": {},
   "outputs": [],
   "source": [
    "plotter = DynamicsPlotter(dynamics, sol)\n",
    "fig, axes = plotter.subplots(nrows=3, figsize=(8, 8))\n",
    "\n",
    "plotter.plot_state(axes[0], show_vicious=True, show_perceived=True)\n",
    "plotter.plot_harvesting(axes[1])\n",
    "plotter.plot_utilities(axes[2])\n",
    "fig.tight_layout()\n",
    "fig"
   ]
  }
 ],
 "metadata": {
  "kernelspec": {
   "display_name": "base",
   "language": "python",
   "name": "python3"
  },
  "language_info": {
   "codemirror_mode": {
    "name": "ipython",
    "version": 3
   },
   "file_extension": ".py",
   "mimetype": "text/x-python",
   "name": "python",
   "nbconvert_exporter": "python",
   "pygments_lexer": "ipython3",
   "version": "3.11.5"
  },
  "orig_nbformat": 4
 },
 "nbformat": 4,
 "nbformat_minor": 2
}
